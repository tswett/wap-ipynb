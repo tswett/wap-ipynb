{
 "cells": [
  {
   "cell_type": "markdown",
   "metadata": {},
   "source": [
    "Let's model the angle of attack response $\\alpha$ of an aircraft given elevator input $\\varepsilon$. We will assume that the aircraft is very \"squirrelly\"; we will model it as a damped harmonic oscillator with a period of $1$ second and a Q factor of $50$. We will assume that the elevator's limits are from $-1$ (full nose down) to $1$ (full nose up), and the former commands an angle of attack of $-5$, and the latter commands an angle of attack of $10$. (We'll leave out the degree sign.) Finally, we'll assume that the elevator input has a latency of 0.3 seconds (slightly more than one quarter phase of the oscillator), and is slew rate limited, taking 1 second to travel from stop to stop."
   ]
  },
  {
   "cell_type": "code",
   "execution_count": 1,
   "metadata": {},
   "outputs": [],
   "source": [
    "from aircraft_simulator import AircraftSimulator\n",
    "from ipywidgets import interact\n",
    "import ipywidgets as widgets"
   ]
  },
  {
   "cell_type": "code",
   "execution_count": 2,
   "metadata": {},
   "outputs": [],
   "source": [
    "simulator = AircraftSimulator()\n",
    "\n",
    "def control(aircraft_state, trim, coeff_p, coeff_i, coeff_d):\n",
    "    time = aircraft_state['time']\n",
    "    alpha = aircraft_state['alpha']\n",
    "    alpha_vel = aircraft_state['alpha_vel']\n",
    "    \n",
    "    commanded_alpha = 0\n",
    "    \n",
    "    error = alpha - commanded_alpha\n",
    "\n",
    "    trim['value'] += coeff_i * -error\n",
    "    elevator = coeff_p * -error + trim['value'] + coeff_d * -alpha_vel\n",
    "        \n",
    "    return {'elevator': elevator}"
   ]
  },
  {
   "cell_type": "code",
   "execution_count": 6,
   "metadata": {},
   "outputs": [
    {
     "data": {
      "application/vnd.jupyter.widget-view+json": {
       "model_id": "34aa7aa4ebf14c958ce5cc5bde75b146",
       "version_major": 2,
       "version_minor": 0
      },
      "text/plain": [
       "interactive(children=(FloatSlider(value=0.0, description='p', max=0.1, min=-0.1, readout_format='.3f', step=0.…"
      ]
     },
     "metadata": {},
     "output_type": "display_data"
    },
    {
     "data": {
      "text/plain": [
       "<function __main__.slider_callback(p, i, d)>"
      ]
     },
     "execution_count": 6,
     "metadata": {},
     "output_type": "execute_result"
    }
   ],
   "source": [
    "def slider_callback(p, i, d):\n",
    "    sim_length = 20\n",
    "    \n",
    "    trim = {'value': 0.0}\n",
    "    \n",
    "    simulator.run_sim(sim_length, lambda state: control(state, trim, p, i, d))\n",
    "    \n",
    "    simulator.pyplot()\n",
    "    \n",
    "interact(slider_callback,\n",
    "         p=widgets.FloatSlider(min=-0.1, max=0.1,  step=0.001,  value=-0.017,  readout_format='.3f'),\n",
    "         i=widgets.FloatSlider(min= 0.0, max=0.01, step=0.0001, value= 0.0027, readout_format='.4f'),\n",
    "         d=widgets.FloatSlider(min= 0.0, max=0.1,  step=0.001,  value= 0.016,  readout_format='.3f'))"
   ]
  },
  {
   "cell_type": "code",
   "execution_count": null,
   "metadata": {},
   "outputs": [],
   "source": []
  }
 ],
 "metadata": {
  "kernelspec": {
   "display_name": "Python 3",
   "language": "python",
   "name": "python3"
  },
  "language_info": {
   "codemirror_mode": {
    "name": "ipython",
    "version": 3
   },
   "file_extension": ".py",
   "mimetype": "text/x-python",
   "name": "python",
   "nbconvert_exporter": "python",
   "pygments_lexer": "ipython3",
   "version": "3.7.4"
  }
 },
 "nbformat": 4,
 "nbformat_minor": 4
}
