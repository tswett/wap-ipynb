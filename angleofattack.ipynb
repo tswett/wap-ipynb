{
 "cells": [
  {
   "cell_type": "markdown",
   "metadata": {},
   "source": [
    "Let's model the angle of attack response $\\alpha$ of an aircraft given elevator input $\\varepsilon$. We will assume that the aircraft is very \"squirrelly\"; we will model it as a damped harmonic oscillator with a period of $1$ second and a Q factor of $50$. We will assume that the elevator's limits are from $-1$ (full nose down) to $1$ (full nose up), and the former commands an angle of attack of $-5$, and the latter commands an angle of attack of $10$. (We'll leave out the degree sign.) Finally, we'll assume that the elevator input has a latency of 0.3 seconds (slightly more than one quarter phase of the oscillator), and is slew rate limited, taking 1 second to travel from stop to stop."
   ]
  },
  {
   "cell_type": "code",
   "execution_count": 1,
   "metadata": {},
   "outputs": [],
   "source": [
    "from aircraft_simulator import AircraftSimulator\n",
    "from ipywidgets import interact, interact_manual"
   ]
  },
  {
   "cell_type": "code",
   "execution_count": 2,
   "metadata": {},
   "outputs": [],
   "source": [
    "simulator = AircraftSimulator()\n",
    "\n",
    "def control(final_elevator, aircraft_state):\n",
    "    time = aircraft_state['time']\n",
    "    \n",
    "    if True:\n",
    "        if time < 5.0:\n",
    "            elevator = 0.0\n",
    "        elif time < 10.0:\n",
    "            elevator = 1.0\n",
    "        elif time < 15.0:\n",
    "            elevator = -1.0\n",
    "        else:\n",
    "            elevator = final_elevator\n",
    "        \n",
    "    return {'elevator': elevator}"
   ]
  },
  {
   "cell_type": "code",
   "execution_count": 3,
   "metadata": {},
   "outputs": [
    {
     "data": {
      "application/vnd.jupyter.widget-view+json": {
       "model_id": "f16f632d788b4a7abc4ff878a433d96c",
       "version_major": 2,
       "version_minor": 0
      },
      "text/plain": [
       "interactive(children=(IntSlider(value=1, description='position', max=3, min=-1), Button(description='Run Inter…"
      ]
     },
     "metadata": {},
     "output_type": "display_data"
    },
    {
     "data": {
      "text/plain": [
       "<function __main__.slider_callback(position)>"
      ]
     },
     "execution_count": 3,
     "metadata": {},
     "output_type": "execute_result"
    }
   ],
   "source": [
    "def slider_callback(position):\n",
    "    sim_length = 20\n",
    "    simulator.run_sim(sim_length, lambda state: control(position, state))\n",
    "    simulator.pyplot()\n",
    "    \n",
    "interact_manual(slider_callback, position=1)"
   ]
  },
  {
   "cell_type": "code",
   "execution_count": null,
   "metadata": {},
   "outputs": [],
   "source": []
  }
 ],
 "metadata": {
  "kernelspec": {
   "display_name": "Python 3",
   "language": "python",
   "name": "python3"
  },
  "language_info": {
   "codemirror_mode": {
    "name": "ipython",
    "version": 3
   },
   "file_extension": ".py",
   "mimetype": "text/x-python",
   "name": "python",
   "nbconvert_exporter": "python",
   "pygments_lexer": "ipython3",
   "version": "3.7.4"
  }
 },
 "nbformat": 4,
 "nbformat_minor": 4
}
